{
 "cells": [
  {
   "cell_type": "code",
   "execution_count": 8,
   "id": "c46c9b18-b60d-464d-892d-06ac50cd8c9a",
   "metadata": {},
   "outputs": [
    {
     "name": "stdout",
     "output_type": "stream",
     "text": [
      "🤖 Chatbot: Hello! I am your assistant. Type 'bye' to exit.\n",
      "\n"
     ]
    },
    {
     "name": "stdin",
     "output_type": "stream",
     "text": [
      "You:  what is your name \n"
     ]
    },
    {
     "name": "stdout",
     "output_type": "stream",
     "text": [
      "🤖 Chatbot: I am a simple chatbot created by you.\n"
     ]
    },
    {
     "name": "stdin",
     "output_type": "stream",
     "text": [
      "You:  what time is it \n"
     ]
    },
    {
     "name": "stdout",
     "output_type": "stream",
     "text": [
      "🤖 Chatbot: Current time is 17:07:06\n"
     ]
    },
    {
     "name": "stdin",
     "output_type": "stream",
     "text": [
      "You:  tell me the date \n"
     ]
    },
    {
     "name": "stdout",
     "output_type": "stream",
     "text": [
      "🤖 Chatbot: Today's date is 2025-08-24\n"
     ]
    },
    {
     "name": "stdin",
     "output_type": "stream",
     "text": [
      "You:  what is ai \n"
     ]
    },
    {
     "name": "stdout",
     "output_type": "stream",
     "text": [
      "🤖 Chatbot: Artificial Intelligence (AI) is the simulation of human intelligence in machines that are designed to think and act like humans.\n"
     ]
    },
    {
     "name": "stdin",
     "output_type": "stream",
     "text": [
      "You:  what is machine learning \n"
     ]
    },
    {
     "name": "stdout",
     "output_type": "stream",
     "text": [
      "🤖 Chatbot: Machine Learning is a subset of AI that enables systems to learn and improve from experience without being explicitly programmed.\n"
     ]
    },
    {
     "name": "stdin",
     "output_type": "stream",
     "text": [
      "You:  what is python \n"
     ]
    },
    {
     "name": "stdout",
     "output_type": "stream",
     "text": [
      "🤖 Chatbot: Python is a popular, beginner-friendly programming language widely used for AI, ML, data science, and web development.\n"
     ]
    },
    {
     "name": "stdin",
     "output_type": "stream",
     "text": [
      "You:  bye \n"
     ]
    },
    {
     "name": "stdout",
     "output_type": "stream",
     "text": [
      "🤖 Chatbot: Goodbye! Have a great day! 👋\n"
     ]
    }
   ],
   "source": [
    "# Rule-Based Chatbot in Python\n",
    "import re\n",
    "from datetime import datetime\n",
    "\n",
    "print(\"🤖 Chatbot: Hello! I am your assistant. Type 'bye' to exit.\\n\")\n",
    "\n",
    "while True:\n",
    "    # Take user input\n",
    "    user_input = input(\"You: \").lower().strip()\n",
    "\n",
    "    # Exit condition\n",
    "    if user_input in [\"bye\", \"exit\", \"quit\"]:\n",
    "        print(\"🤖 Chatbot: Goodbye! Have a great day! 👋\")\n",
    "        break\n",
    "\n",
    "    # Greetings\n",
    "    elif re.search(r\"\\b(hi|hello|hey)\\b\", user_input):\n",
    "        print(\"🤖 Chatbot: Hello! How can I help you?\")\n",
    "\n",
    "    # Asking name\n",
    "    elif \"your name\" in user_input:\n",
    "        print(\"🤖 Chatbot: I am a simple chatbot created by you.\")\n",
    "\n",
    "    # Asking how are you\n",
    "    elif \"how are you\" in user_input:\n",
    "        print(\"🤖 Chatbot: I'm doing great! Thanks for asking. How about you?\")\n",
    "\n",
    "    # Date & Time\n",
    "    elif \"time\" in user_input:\n",
    "        print(\"🤖 Chatbot: Current time is\", datetime.now().strftime(\"%H:%M:%S\"))\n",
    "    elif \"date\" in user_input:\n",
    "        print(\"🤖 Chatbot: Today's date is\", datetime.now().strftime(\"%Y-%m-%d\"))\n",
    "\n",
    "    # Jokes\n",
    "    elif \"joke\" in user_input:\n",
    "        print(\"🤖 Chatbot: Why don’t scientists trust atoms? Because they make up everything! 😄\")\n",
    "\n",
    "    # Technology Info\n",
    "    elif \"ai\" in user_input or \"artificial intelligence\" in user_input:\n",
    "        print(\"🤖 Chatbot: Artificial Intelligence (AI) is the simulation of human intelligence in machines that are designed to think and act like humans.\")\n",
    "    elif \"ml\" in user_input or \"machine learning\" in user_input:\n",
    "        print(\"🤖 Chatbot: Machine Learning is a subset of AI that enables systems to learn and improve from experience without being explicitly programmed.\")\n",
    "    elif \"cloud computing\" in user_input or \"cloud\" in user_input:\n",
    "        print(\"🤖 Chatbot: Cloud computing delivers services like storage, servers, databases, and software over the internet ('the cloud').\")\n",
    "    elif \"blockchain\" in user_input:\n",
    "        print(\"🤖 Chatbot: Blockchain is a distributed digital ledger that securely records transactions across many computers, making data tamper-proof.\")\n",
    "    elif \"python\" in user_input:\n",
    "        print(\"🤖 Chatbot: Python is a popular, beginner-friendly programming language widely used for AI, ML, data science, and web development.\")\n",
    "\n",
    "    # Default Response\n",
    "    else:\n",
    "        print(\"🤖 Chatbot: Sorry, I didn’t understand that. Can you rephrase?\")\n"
   ]
  },
  {
   "cell_type": "code",
   "execution_count": null,
   "id": "b150dd6d-2d64-44aa-8751-2124da4c106e",
   "metadata": {},
   "outputs": [],
   "source": []
  }
 ],
 "metadata": {
  "kernelspec": {
   "display_name": "Python 3 (ipykernel)",
   "language": "python",
   "name": "python3"
  },
  "language_info": {
   "codemirror_mode": {
    "name": "ipython",
    "version": 3
   },
   "file_extension": ".py",
   "mimetype": "text/x-python",
   "name": "python",
   "nbconvert_exporter": "python",
   "pygments_lexer": "ipython3",
   "version": "3.12.7"
  }
 },
 "nbformat": 4,
 "nbformat_minor": 5
}
